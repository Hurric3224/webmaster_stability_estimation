{
 "cells": [
  {
   "cell_type": "code",
   "execution_count": 161,
   "id": "2f13f6a3",
   "metadata": {},
   "outputs": [],
   "source": [
    "import pandas as pd\n",
    "import numpy as np\n",
    "import matplotlib.pyplot as plt\n",
    "import seaborn as sns\n",
    "from datetime import datetime, timedelta"
   ]
  },
  {
   "cell_type": "code",
   "execution_count": 162,
   "id": "23fe7b68",
   "metadata": {},
   "outputs": [],
   "source": [
    "df = pd.read_csv(r'D:\\Yuri\\Projects\\webmaster_stability\\webs.csv')\n",
    "df_2 = pd.read_csv(r'D:\\Yuri\\Projects\\webmaster_stability\\webs.csv')"
   ]
  },
  {
   "cell_type": "code",
   "execution_count": 163,
   "id": "15f5da4d",
   "metadata": {},
   "outputs": [
    {
     "name": "stdout",
     "output_type": "stream",
     "text": [
      "<class 'pandas.core.frame.DataFrame'>\n",
      "RangeIndex: 240785 entries, 0 to 240784\n",
      "Data columns (total 3 columns):\n",
      " #   Column         Non-Null Count   Dtype \n",
      "---  ------         --------------   ----- \n",
      " 0   ts_spawn_date  240785 non-null  object\n",
      " 1   web_id         240784 non-null  object\n",
      " 2   lead_qty       240785 non-null  int64 \n",
      "dtypes: int64(1), object(2)\n",
      "memory usage: 5.5+ MB\n"
     ]
    }
   ],
   "source": [
    "df.info()"
   ]
  },
  {
   "cell_type": "code",
   "execution_count": null,
   "id": "bcbc3cce",
   "metadata": {},
   "outputs": [],
   "source": []
  },
  {
   "cell_type": "markdown",
   "id": "36529f7c",
   "metadata": {},
   "source": [
    "## Days"
   ]
  },
  {
   "cell_type": "code",
   "execution_count": 164,
   "id": "89ba284f",
   "metadata": {},
   "outputs": [],
   "source": [
    "df_days = df"
   ]
  },
  {
   "cell_type": "code",
   "execution_count": 165,
   "id": "58d8a776",
   "metadata": {},
   "outputs": [
    {
     "data": {
      "text/html": [
       "<div>\n",
       "<style scoped>\n",
       "    .dataframe tbody tr th:only-of-type {\n",
       "        vertical-align: middle;\n",
       "    }\n",
       "\n",
       "    .dataframe tbody tr th {\n",
       "        vertical-align: top;\n",
       "    }\n",
       "\n",
       "    .dataframe thead th {\n",
       "        text-align: right;\n",
       "    }\n",
       "</style>\n",
       "<table border=\"1\" class=\"dataframe\">\n",
       "  <thead>\n",
       "    <tr style=\"text-align: right;\">\n",
       "      <th></th>\n",
       "      <th>lead_qty</th>\n",
       "    </tr>\n",
       "  </thead>\n",
       "  <tbody>\n",
       "    <tr>\n",
       "      <th>count</th>\n",
       "      <td>240785.000000</td>\n",
       "    </tr>\n",
       "    <tr>\n",
       "      <th>mean</th>\n",
       "      <td>60.935557</td>\n",
       "    </tr>\n",
       "    <tr>\n",
       "      <th>std</th>\n",
       "      <td>179.100450</td>\n",
       "    </tr>\n",
       "    <tr>\n",
       "      <th>min</th>\n",
       "      <td>1.000000</td>\n",
       "    </tr>\n",
       "    <tr>\n",
       "      <th>25%</th>\n",
       "      <td>2.000000</td>\n",
       "    </tr>\n",
       "    <tr>\n",
       "      <th>50%</th>\n",
       "      <td>8.000000</td>\n",
       "    </tr>\n",
       "    <tr>\n",
       "      <th>75%</th>\n",
       "      <td>42.000000</td>\n",
       "    </tr>\n",
       "    <tr>\n",
       "      <th>max</th>\n",
       "      <td>6734.000000</td>\n",
       "    </tr>\n",
       "  </tbody>\n",
       "</table>\n",
       "</div>"
      ],
      "text/plain": [
       "            lead_qty\n",
       "count  240785.000000\n",
       "mean       60.935557\n",
       "std       179.100450\n",
       "min         1.000000\n",
       "25%         2.000000\n",
       "50%         8.000000\n",
       "75%        42.000000\n",
       "max      6734.000000"
      ]
     },
     "execution_count": 165,
     "metadata": {},
     "output_type": "execute_result"
    }
   ],
   "source": [
    "df.describe()"
   ]
  },
  {
   "cell_type": "code",
   "execution_count": 166,
   "id": "3654e6e5",
   "metadata": {},
   "outputs": [
    {
     "data": {
      "text/plain": [
       "<AxesSubplot:xlabel='lead_qty'>"
      ]
     },
     "execution_count": 166,
     "metadata": {},
     "output_type": "execute_result"
    },
    {
     "data": {
      "image/png": "[encoded data removed]",
      "text/plain": [
       "<Figure size 432x288 with 1 Axes>"
      ]
     },
     "metadata": {
      "needs_background": "light"
     },
     "output_type": "display_data"
    }
   ],
   "source": [
    "sns.boxplot(x='lead_qty', data=df_days)"
   ]
  },
  {
   "cell_type": "code",
   "execution_count": 253,
   "id": "27d0d664",
   "metadata": {},
   "outputs": [
    {
     "data": {
      "text/html": [
       "<div>\n",
       "<style scoped>\n",
       "    .dataframe tbody tr th:only-of-type {\n",
       "        vertical-align: middle;\n",
       "    }\n",
       "\n",
       "    .dataframe tbody tr th {\n",
       "        vertical-align: top;\n",
       "    }\n",
       "\n",
       "    .dataframe thead th {\n",
       "        text-align: right;\n",
       "    }\n",
       "</style>\n",
       "<table border=\"1\" class=\"dataframe\">\n",
       "  <thead>\n",
       "    <tr style=\"text-align: right;\">\n",
       "      <th></th>\n",
       "      <th>lead_qty</th>\n",
       "    </tr>\n",
       "  </thead>\n",
       "  <tbody>\n",
       "    <tr>\n",
       "      <th>count</th>\n",
       "      <td>132756.000000</td>\n",
       "    </tr>\n",
       "    <tr>\n",
       "      <th>mean</th>\n",
       "      <td>67.735665</td>\n",
       "    </tr>\n",
       "    <tr>\n",
       "      <th>std</th>\n",
       "      <td>89.630838</td>\n",
       "    </tr>\n",
       "    <tr>\n",
       "      <th>min</th>\n",
       "      <td>6.000000</td>\n",
       "    </tr>\n",
       "    <tr>\n",
       "      <th>25%</th>\n",
       "      <td>13.000000</td>\n",
       "    </tr>\n",
       "    <tr>\n",
       "      <th>50%</th>\n",
       "      <td>31.000000</td>\n",
       "    </tr>\n",
       "    <tr>\n",
       "      <th>75%</th>\n",
       "      <td>81.000000</td>\n",
       "    </tr>\n",
       "    <tr>\n",
       "      <th>max</th>\n",
       "      <td>499.000000</td>\n",
       "    </tr>\n",
       "  </tbody>\n",
       "</table>\n",
       "</div>"
      ],
      "text/plain": [
       "            lead_qty\n",
       "count  132756.000000\n",
       "mean       67.735665\n",
       "std        89.630838\n",
       "min         6.000000\n",
       "25%        13.000000\n",
       "50%        31.000000\n",
       "75%        81.000000\n",
       "max       499.000000"
      ]
     },
     "execution_count": 253,
     "metadata": {},
     "output_type": "execute_result"
    }
   ],
   "source": [
    "df_days_cut = df_days[(df_days['lead_qty'] < 500) & (df_days['lead_qty'] > 5)]\n",
    "df_days_cut.describe()"
   ]
  },
  {
   "cell_type": "code",
   "execution_count": 254,
   "id": "7b00c4f9",
   "metadata": {},
   "outputs": [
    {
     "data": {
      "text/plain": [
       "<AxesSubplot:xlabel='lead_qty'>"
      ]
     },
     "execution_count": 254,
     "metadata": {},
     "output_type": "execute_result"
    },
    {
     "data": {
      "image/png": "[encoded data removed]",
      "text/plain": [
       "<Figure size 432x288 with 1 Axes>"
      ]
     },
     "metadata": {
      "needs_background": "light"
     },
     "output_type": "display_data"
    }
   ],
   "source": [
    "sns.boxplot(x='lead_qty', data=df_days_cut)"
   ]
  },
  {
   "cell_type": "code",
   "execution_count": 255,
   "id": "ddc3742a",
   "metadata": {},
   "outputs": [
    {
     "data": {
      "text/html": [
       "<div>\n",
       "<style scoped>\n",
       "    .dataframe tbody tr th:only-of-type {\n",
       "        vertical-align: middle;\n",
       "    }\n",
       "\n",
       "    .dataframe tbody tr th {\n",
       "        vertical-align: top;\n",
       "    }\n",
       "\n",
       "    .dataframe thead th {\n",
       "        text-align: right;\n",
       "    }\n",
       "</style>\n",
       "<table border=\"1\" class=\"dataframe\">\n",
       "  <thead>\n",
       "    <tr style=\"text-align: right;\">\n",
       "      <th></th>\n",
       "      <th>lead_qty</th>\n",
       "    </tr>\n",
       "  </thead>\n",
       "  <tbody>\n",
       "    <tr>\n",
       "      <th>count</th>\n",
       "      <td>101101.000000</td>\n",
       "    </tr>\n",
       "    <tr>\n",
       "      <th>mean</th>\n",
       "      <td>27.526206</td>\n",
       "    </tr>\n",
       "    <tr>\n",
       "      <th>std</th>\n",
       "      <td>20.974809</td>\n",
       "    </tr>\n",
       "    <tr>\n",
       "      <th>min</th>\n",
       "      <td>6.000000</td>\n",
       "    </tr>\n",
       "    <tr>\n",
       "      <th>25%</th>\n",
       "      <td>10.000000</td>\n",
       "    </tr>\n",
       "    <tr>\n",
       "      <th>50%</th>\n",
       "      <td>20.000000</td>\n",
       "    </tr>\n",
       "    <tr>\n",
       "      <th>75%</th>\n",
       "      <td>40.000000</td>\n",
       "    </tr>\n",
       "    <tr>\n",
       "      <th>max</th>\n",
       "      <td>85.000000</td>\n",
       "    </tr>\n",
       "  </tbody>\n",
       "</table>\n",
       "</div>"
      ],
      "text/plain": [
       "            lead_qty\n",
       "count  101101.000000\n",
       "mean       27.526206\n",
       "std        20.974809\n",
       "min         6.000000\n",
       "25%        10.000000\n",
       "50%        20.000000\n",
       "75%        40.000000\n",
       "max        85.000000"
      ]
     },
     "execution_count": 255,
     "metadata": {},
     "output_type": "execute_result"
    }
   ],
   "source": [
    "df_days_fullcut = df_days[(df_days['lead_qty'] < 86) & (df_days['lead_qty'] > 5)]\n",
    "df_days_fullcut.describe()"
   ]
  },
  {
   "cell_type": "code",
   "execution_count": 256,
   "id": "700000c3",
   "metadata": {},
   "outputs": [
    {
     "data": {
      "text/plain": [
       "<AxesSubplot:xlabel='lead_qty'>"
      ]
     },
     "execution_count": 256,
     "metadata": {},
     "output_type": "execute_result"
    },
    {
     "data": {
      "image/png": "[encoded data removed]",
      "text/plain": [
       "<Figure size 432x288 with 1 Axes>"
      ]
     },
     "metadata": {
      "needs_background": "light"
     },
     "output_type": "display_data"
    }
   ],
   "source": [
    "sns.boxplot(x='lead_qty', data=df_days_fullcut)"
   ]
  },
  {
   "cell_type": "code",
   "execution_count": null,
   "id": "0eda2f47",
   "metadata": {},
   "outputs": [],
   "source": []
  },
  {
   "cell_type": "code",
   "execution_count": null,
   "id": "64c23238",
   "metadata": {},
   "outputs": [],
   "source": []
  },
  {
   "cell_type": "markdown",
   "id": "cd43e640",
   "metadata": {},
   "source": [
    "## Weaks"
   ]
  },
  {
   "cell_type": "code",
   "execution_count": 169,
   "id": "36399087",
   "metadata": {},
   "outputs": [],
   "source": [
    "df_weaks = df_2"
   ]
  },
  {
   "cell_type": "code",
   "execution_count": 170,
   "id": "fb3e2ded",
   "metadata": {},
   "outputs": [],
   "source": [
    "df_weaks['ts_spawn_date'] = pd.to_datetime(df_weaks['ts_spawn_date'], format=\"%Y/%m/%d\")\n",
    "df_weaks['ts_spawn_date'] = df_weaks['ts_spawn_date'].dt.to_period('W')"
   ]
  },
  {
   "cell_type": "code",
   "execution_count": 171,
   "id": "42e1ab59",
   "metadata": {},
   "outputs": [],
   "source": [
    "df_weaks = df_weaks.groupby(['ts_spawn_date', 'web_id'], as_index=False).agg({'lead_qty': sum})"
   ]
  },
  {
   "cell_type": "code",
   "execution_count": 173,
   "id": "8a8bae9a",
   "metadata": {},
   "outputs": [
    {
     "data": {
      "text/html": [
       "<div>\n",
       "<style scoped>\n",
       "    .dataframe tbody tr th:only-of-type {\n",
       "        vertical-align: middle;\n",
       "    }\n",
       "\n",
       "    .dataframe tbody tr th {\n",
       "        vertical-align: top;\n",
       "    }\n",
       "\n",
       "    .dataframe thead th {\n",
       "        text-align: right;\n",
       "    }\n",
       "</style>\n",
       "<table border=\"1\" class=\"dataframe\">\n",
       "  <thead>\n",
       "    <tr style=\"text-align: right;\">\n",
       "      <th></th>\n",
       "      <th>lead_qty</th>\n",
       "    </tr>\n",
       "  </thead>\n",
       "  <tbody>\n",
       "    <tr>\n",
       "      <th>count</th>\n",
       "      <td>53412.000000</td>\n",
       "    </tr>\n",
       "    <tr>\n",
       "      <th>mean</th>\n",
       "      <td>274.701565</td>\n",
       "    </tr>\n",
       "    <tr>\n",
       "      <th>std</th>\n",
       "      <td>996.825552</td>\n",
       "    </tr>\n",
       "    <tr>\n",
       "      <th>min</th>\n",
       "      <td>1.000000</td>\n",
       "    </tr>\n",
       "    <tr>\n",
       "      <th>25%</th>\n",
       "      <td>3.000000</td>\n",
       "    </tr>\n",
       "    <tr>\n",
       "      <th>50%</th>\n",
       "      <td>17.000000</td>\n",
       "    </tr>\n",
       "    <tr>\n",
       "      <th>75%</th>\n",
       "      <td>131.000000</td>\n",
       "    </tr>\n",
       "    <tr>\n",
       "      <th>max</th>\n",
       "      <td>33767.000000</td>\n",
       "    </tr>\n",
       "  </tbody>\n",
       "</table>\n",
       "</div>"
      ],
      "text/plain": [
       "           lead_qty\n",
       "count  53412.000000\n",
       "mean     274.701565\n",
       "std      996.825552\n",
       "min        1.000000\n",
       "25%        3.000000\n",
       "50%       17.000000\n",
       "75%      131.000000\n",
       "max    33767.000000"
      ]
     },
     "execution_count": 173,
     "metadata": {},
     "output_type": "execute_result"
    }
   ],
   "source": [
    "df_weaks.describe()"
   ]
  },
  {
   "cell_type": "code",
   "execution_count": 174,
   "id": "1983ecbc",
   "metadata": {},
   "outputs": [
    {
     "data": {
      "text/plain": [
       "<AxesSubplot:xlabel='lead_qty'>"
      ]
     },
     "execution_count": 174,
     "metadata": {},
     "output_type": "execute_result"
    },
    {
     "data": {
      "image/png": "[encoded data removed]",
      "text/plain": [
       "<Figure size 432x288 with 1 Axes>"
      ]
     },
     "metadata": {
      "needs_background": "light"
     },
     "output_type": "display_data"
    }
   ],
   "source": [
    "sns.boxplot(x='lead_qty', data=df_weaks)"
   ]
  },
  {
   "cell_type": "code",
   "execution_count": 225,
   "id": "c7c7f6e4",
   "metadata": {},
   "outputs": [
    {
     "data": {
      "text/html": [
       "<div>\n",
       "<style scoped>\n",
       "    .dataframe tbody tr th:only-of-type {\n",
       "        vertical-align: middle;\n",
       "    }\n",
       "\n",
       "    .dataframe tbody tr th {\n",
       "        vertical-align: top;\n",
       "    }\n",
       "\n",
       "    .dataframe thead th {\n",
       "        text-align: right;\n",
       "    }\n",
       "</style>\n",
       "<table border=\"1\" class=\"dataframe\">\n",
       "  <thead>\n",
       "    <tr style=\"text-align: right;\">\n",
       "      <th></th>\n",
       "      <th>lead_qty</th>\n",
       "    </tr>\n",
       "  </thead>\n",
       "  <tbody>\n",
       "    <tr>\n",
       "      <th>count</th>\n",
       "      <td>20473.000000</td>\n",
       "    </tr>\n",
       "    <tr>\n",
       "      <th>mean</th>\n",
       "      <td>447.425927</td>\n",
       "    </tr>\n",
       "    <tr>\n",
       "      <th>std</th>\n",
       "      <td>610.218382</td>\n",
       "    </tr>\n",
       "    <tr>\n",
       "      <th>min</th>\n",
       "      <td>36.000000</td>\n",
       "    </tr>\n",
       "    <tr>\n",
       "      <th>25%</th>\n",
       "      <td>80.000000</td>\n",
       "    </tr>\n",
       "    <tr>\n",
       "      <th>50%</th>\n",
       "      <td>197.000000</td>\n",
       "    </tr>\n",
       "    <tr>\n",
       "      <th>75%</th>\n",
       "      <td>527.000000</td>\n",
       "    </tr>\n",
       "    <tr>\n",
       "      <th>max</th>\n",
       "      <td>3498.000000</td>\n",
       "    </tr>\n",
       "  </tbody>\n",
       "</table>\n",
       "</div>"
      ],
      "text/plain": [
       "           lead_qty\n",
       "count  20473.000000\n",
       "mean     447.425927\n",
       "std      610.218382\n",
       "min       36.000000\n",
       "25%       80.000000\n",
       "50%      197.000000\n",
       "75%      527.000000\n",
       "max     3498.000000"
      ]
     },
     "execution_count": 225,
     "metadata": {},
     "output_type": "execute_result"
    }
   ],
   "source": [
    "df_weaks_cut = df_weaks[(df_weaks['lead_qty'] < 3500) & (df_weaks['lead_qty'] > 35)]\n",
    "df_weaks_cut.describe()"
   ]
  },
  {
   "cell_type": "code",
   "execution_count": 227,
   "id": "2257d267",
   "metadata": {},
   "outputs": [
    {
     "data": {
      "text/plain": [
       "<AxesSubplot:xlabel='lead_qty'>"
      ]
     },
     "execution_count": 227,
     "metadata": {},
     "output_type": "execute_result"
    },
    {
     "data": {
      "image/png": "[encoded data removed]",
      "text/plain": [
       "<Figure size 432x288 with 1 Axes>"
      ]
     },
     "metadata": {
      "needs_background": "light"
     },
     "output_type": "display_data"
    }
   ],
   "source": [
    "sns.boxplot(x='lead_qty', data=df_weaks_cut)"
   ]
  },
  {
   "cell_type": "code",
   "execution_count": 246,
   "id": "f1aeb176",
   "metadata": {},
   "outputs": [
    {
     "data": {
      "text/html": [
       "<div>\n",
       "<style scoped>\n",
       "    .dataframe tbody tr th:only-of-type {\n",
       "        vertical-align: middle;\n",
       "    }\n",
       "\n",
       "    .dataframe tbody tr th {\n",
       "        vertical-align: top;\n",
       "    }\n",
       "\n",
       "    .dataframe thead th {\n",
       "        text-align: right;\n",
       "    }\n",
       "</style>\n",
       "<table border=\"1\" class=\"dataframe\">\n",
       "  <thead>\n",
       "    <tr style=\"text-align: right;\">\n",
       "      <th></th>\n",
       "      <th>lead_qty</th>\n",
       "    </tr>\n",
       "  </thead>\n",
       "  <tbody>\n",
       "    <tr>\n",
       "      <th>count</th>\n",
       "      <td>15120.000000</td>\n",
       "    </tr>\n",
       "    <tr>\n",
       "      <th>mean</th>\n",
       "      <td>165.362765</td>\n",
       "    </tr>\n",
       "    <tr>\n",
       "      <th>std</th>\n",
       "      <td>122.799515</td>\n",
       "    </tr>\n",
       "    <tr>\n",
       "      <th>min</th>\n",
       "      <td>36.000000</td>\n",
       "    </tr>\n",
       "    <tr>\n",
       "      <th>25%</th>\n",
       "      <td>64.000000</td>\n",
       "    </tr>\n",
       "    <tr>\n",
       "      <th>50%</th>\n",
       "      <td>123.000000</td>\n",
       "    </tr>\n",
       "    <tr>\n",
       "      <th>75%</th>\n",
       "      <td>239.000000</td>\n",
       "    </tr>\n",
       "    <tr>\n",
       "      <th>max</th>\n",
       "      <td>501.000000</td>\n",
       "    </tr>\n",
       "  </tbody>\n",
       "</table>\n",
       "</div>"
      ],
      "text/plain": [
       "           lead_qty\n",
       "count  15120.000000\n",
       "mean     165.362765\n",
       "std      122.799515\n",
       "min       36.000000\n",
       "25%       64.000000\n",
       "50%      123.000000\n",
       "75%      239.000000\n",
       "max      501.000000"
      ]
     },
     "execution_count": 246,
     "metadata": {},
     "output_type": "execute_result"
    }
   ],
   "source": [
    "df_weaks_fullcut = df_weaks[(df_weaks['lead_qty'] < 502) & (df_weaks['lead_qty'] > 35)]\n",
    "df_weaks_fullcut.describe()"
   ]
  },
  {
   "cell_type": "code",
   "execution_count": 247,
   "id": "b330a3bb",
   "metadata": {},
   "outputs": [
    {
     "data": {
      "text/plain": [
       "<AxesSubplot:xlabel='lead_qty'>"
      ]
     },
     "execution_count": 247,
     "metadata": {},
     "output_type": "execute_result"
    },
    {
     "data": {
      "image/png": "[encoded data removed]",
      "text/plain": [
       "<Figure size 432x288 with 1 Axes>"
      ]
     },
     "metadata": {
      "needs_background": "light"
     },
     "output_type": "display_data"
    }
   ],
   "source": [
    "sns.boxplot(x='lead_qty', data=df_weaks_fullcut)"
   ]
  },
  {
   "cell_type": "code",
   "execution_count": null,
   "id": "1888ed96",
   "metadata": {},
   "outputs": [],
   "source": []
  },
  {
   "cell_type": "code",
   "execution_count": null,
   "id": "a03e468d",
   "metadata": {},
   "outputs": [],
   "source": []
  },
  {
   "cell_type": "markdown",
   "id": "618e3601",
   "metadata": {},
   "source": [
    "## Months"
   ]
  },
  {
   "cell_type": "code",
   "execution_count": 177,
   "id": "08133cd9",
   "metadata": {},
   "outputs": [],
   "source": [
    "df_months = df"
   ]
  },
  {
   "cell_type": "code",
   "execution_count": 178,
   "id": "4818a064",
   "metadata": {},
   "outputs": [],
   "source": [
    "df_months['ts_spawn_date'] = pd.to_datetime(df_months['ts_spawn_date'], format=\"%Y/%m/%d\")\n",
    "df_months['ts_spawn_date'] = df_months['ts_spawn_date'].dt.to_period('M')"
   ]
  },
  {
   "cell_type": "code",
   "execution_count": 179,
   "id": "82bb06c9",
   "metadata": {},
   "outputs": [],
   "source": [
    "df_months = df_months.groupby(['ts_spawn_date', 'web_id'], as_index=False).agg({'lead_qty': sum})"
   ]
  },
  {
   "cell_type": "code",
   "execution_count": 180,
   "id": "9d96ec00",
   "metadata": {},
   "outputs": [
    {
     "data": {
      "text/html": [
       "<div>\n",
       "<style scoped>\n",
       "    .dataframe tbody tr th:only-of-type {\n",
       "        vertical-align: middle;\n",
       "    }\n",
       "\n",
       "    .dataframe tbody tr th {\n",
       "        vertical-align: top;\n",
       "    }\n",
       "\n",
       "    .dataframe thead th {\n",
       "        text-align: right;\n",
       "    }\n",
       "</style>\n",
       "<table border=\"1\" class=\"dataframe\">\n",
       "  <thead>\n",
       "    <tr style=\"text-align: right;\">\n",
       "      <th></th>\n",
       "      <th>lead_qty</th>\n",
       "    </tr>\n",
       "  </thead>\n",
       "  <tbody>\n",
       "    <tr>\n",
       "      <th>count</th>\n",
       "      <td>18082.000000</td>\n",
       "    </tr>\n",
       "    <tr>\n",
       "      <th>mean</th>\n",
       "      <td>811.434576</td>\n",
       "    </tr>\n",
       "    <tr>\n",
       "      <th>std</th>\n",
       "      <td>3494.870507</td>\n",
       "    </tr>\n",
       "    <tr>\n",
       "      <th>min</th>\n",
       "      <td>1.000000</td>\n",
       "    </tr>\n",
       "    <tr>\n",
       "      <th>25%</th>\n",
       "      <td>3.000000</td>\n",
       "    </tr>\n",
       "    <tr>\n",
       "      <th>50%</th>\n",
       "      <td>24.000000</td>\n",
       "    </tr>\n",
       "    <tr>\n",
       "      <th>75%</th>\n",
       "      <td>230.000000</td>\n",
       "    </tr>\n",
       "    <tr>\n",
       "      <th>max</th>\n",
       "      <td>108318.000000</td>\n",
       "    </tr>\n",
       "  </tbody>\n",
       "</table>\n",
       "</div>"
      ],
      "text/plain": [
       "            lead_qty\n",
       "count   18082.000000\n",
       "mean      811.434576\n",
       "std      3494.870507\n",
       "min         1.000000\n",
       "25%         3.000000\n",
       "50%        24.000000\n",
       "75%       230.000000\n",
       "max    108318.000000"
      ]
     },
     "execution_count": 180,
     "metadata": {},
     "output_type": "execute_result"
    }
   ],
   "source": [
    "df_months.describe()"
   ]
  },
  {
   "cell_type": "code",
   "execution_count": 181,
   "id": "a706750f",
   "metadata": {},
   "outputs": [
    {
     "data": {
      "text/plain": [
       "<AxesSubplot:xlabel='lead_qty'>"
      ]
     },
     "execution_count": 181,
     "metadata": {},
     "output_type": "execute_result"
    },
    {
     "data": {
      "image/png": "[encoded data removed]",
      "text/plain": [
       "<Figure size 432x288 with 1 Axes>"
      ]
     },
     "metadata": {
      "needs_background": "light"
     },
     "output_type": "display_data"
    }
   ],
   "source": [
    "sns.boxplot(x='lead_qty', data=df_months)"
   ]
  },
  {
   "cell_type": "code",
   "execution_count": 248,
   "id": "4e8e43d7",
   "metadata": {},
   "outputs": [
    {
     "data": {
      "text/html": [
       "<div>\n",
       "<style scoped>\n",
       "    .dataframe tbody tr th:only-of-type {\n",
       "        vertical-align: middle;\n",
       "    }\n",
       "\n",
       "    .dataframe tbody tr th {\n",
       "        vertical-align: top;\n",
       "    }\n",
       "\n",
       "    .dataframe thead th {\n",
       "        text-align: right;\n",
       "    }\n",
       "</style>\n",
       "<table border=\"1\" class=\"dataframe\">\n",
       "  <thead>\n",
       "    <tr style=\"text-align: right;\">\n",
       "      <th></th>\n",
       "      <th>lead_qty</th>\n",
       "    </tr>\n",
       "  </thead>\n",
       "  <tbody>\n",
       "    <tr>\n",
       "      <th>count</th>\n",
       "      <td>5065.000000</td>\n",
       "    </tr>\n",
       "    <tr>\n",
       "      <th>mean</th>\n",
       "      <td>1856.096150</td>\n",
       "    </tr>\n",
       "    <tr>\n",
       "      <th>std</th>\n",
       "      <td>2604.305915</td>\n",
       "    </tr>\n",
       "    <tr>\n",
       "      <th>min</th>\n",
       "      <td>151.000000</td>\n",
       "    </tr>\n",
       "    <tr>\n",
       "      <th>25%</th>\n",
       "      <td>331.000000</td>\n",
       "    </tr>\n",
       "    <tr>\n",
       "      <th>50%</th>\n",
       "      <td>794.000000</td>\n",
       "    </tr>\n",
       "    <tr>\n",
       "      <th>75%</th>\n",
       "      <td>2125.000000</td>\n",
       "    </tr>\n",
       "    <tr>\n",
       "      <th>max</th>\n",
       "      <td>14988.000000</td>\n",
       "    </tr>\n",
       "  </tbody>\n",
       "</table>\n",
       "</div>"
      ],
      "text/plain": [
       "           lead_qty\n",
       "count   5065.000000\n",
       "mean    1856.096150\n",
       "std     2604.305915\n",
       "min      151.000000\n",
       "25%      331.000000\n",
       "50%      794.000000\n",
       "75%     2125.000000\n",
       "max    14988.000000"
      ]
     },
     "execution_count": 248,
     "metadata": {},
     "output_type": "execute_result"
    }
   ],
   "source": [
    "df_months_cut = df_months[(df_months['lead_qty'] < 15000) & (df_months['lead_qty'] > 150)]\n",
    "df_months_cut.describe()"
   ]
  },
  {
   "cell_type": "code",
   "execution_count": 249,
   "id": "1e3e315d",
   "metadata": {},
   "outputs": [
    {
     "data": {
      "text/plain": [
       "<AxesSubplot:xlabel='lead_qty'>"
      ]
     },
     "execution_count": 249,
     "metadata": {},
     "output_type": "execute_result"
    },
    {
     "data": {
      "image/png": "[encoded data removed]",
      "text/plain": [
       "<Figure size 432x288 with 1 Axes>"
      ]
     },
     "metadata": {
      "needs_background": "light"
     },
     "output_type": "display_data"
    }
   ],
   "source": [
    "sns.boxplot(x='lead_qty', data=df_months_cut)"
   ]
  },
  {
   "cell_type": "code",
   "execution_count": 295,
   "id": "392b16bb",
   "metadata": {},
   "outputs": [
    {
     "data": {
      "text/html": [
       "<div>\n",
       "<style scoped>\n",
       "    .dataframe tbody tr th:only-of-type {\n",
       "        vertical-align: middle;\n",
       "    }\n",
       "\n",
       "    .dataframe tbody tr th {\n",
       "        vertical-align: top;\n",
       "    }\n",
       "\n",
       "    .dataframe thead th {\n",
       "        text-align: right;\n",
       "    }\n",
       "</style>\n",
       "<table border=\"1\" class=\"dataframe\">\n",
       "  <thead>\n",
       "    <tr style=\"text-align: right;\">\n",
       "      <th></th>\n",
       "      <th>lead_qty</th>\n",
       "    </tr>\n",
       "  </thead>\n",
       "  <tbody>\n",
       "    <tr>\n",
       "      <th>count</th>\n",
       "      <td>3799.000000</td>\n",
       "    </tr>\n",
       "    <tr>\n",
       "      <th>mean</th>\n",
       "      <td>693.421953</td>\n",
       "    </tr>\n",
       "    <tr>\n",
       "      <th>std</th>\n",
       "      <td>519.096134</td>\n",
       "    </tr>\n",
       "    <tr>\n",
       "      <th>min</th>\n",
       "      <td>151.000000</td>\n",
       "    </tr>\n",
       "    <tr>\n",
       "      <th>25%</th>\n",
       "      <td>270.000000</td>\n",
       "    </tr>\n",
       "    <tr>\n",
       "      <th>50%</th>\n",
       "      <td>509.000000</td>\n",
       "    </tr>\n",
       "    <tr>\n",
       "      <th>75%</th>\n",
       "      <td>1013.000000</td>\n",
       "    </tr>\n",
       "    <tr>\n",
       "      <th>max</th>\n",
       "      <td>2125.000000</td>\n",
       "    </tr>\n",
       "  </tbody>\n",
       "</table>\n",
       "</div>"
      ],
      "text/plain": [
       "          lead_qty\n",
       "count  3799.000000\n",
       "mean    693.421953\n",
       "std     519.096134\n",
       "min     151.000000\n",
       "25%     270.000000\n",
       "50%     509.000000\n",
       "75%    1013.000000\n",
       "max    2125.000000"
      ]
     },
     "execution_count": 295,
     "metadata": {},
     "output_type": "execute_result"
    }
   ],
   "source": [
    "df_months_fullcut = df_months[(df_months['lead_qty'] < 2138) & (df_months['lead_qty'] > 150)]\n",
    "df_months_fullcut.describe()"
   ]
  },
  {
   "cell_type": "code",
   "execution_count": 296,
   "id": "f4b6b656",
   "metadata": {},
   "outputs": [
    {
     "data": {
      "text/plain": [
       "<AxesSubplot:xlabel='lead_qty'>"
      ]
     },
     "execution_count": 296,
     "metadata": {},
     "output_type": "execute_result"
    },
    {
     "data": {
      "image/png": "[encoded data removed]",
      "text/plain": [
       "<Figure size 432x288 with 1 Axes>"
      ]
     },
     "metadata": {
      "needs_background": "light"
     },
     "output_type": "display_data"
    }
   ],
   "source": [
    "sns.boxplot(x='lead_qty', data=df_months_fullcut)"
   ]
  },
  {
   "cell_type": "markdown",
   "id": "25aa7058",
   "metadata": {},
   "source": [
    "## Compare"
   ]
  },
  {
   "cell_type": "code",
   "execution_count": 328,
   "id": "8eb800bf",
   "metadata": {},
   "outputs": [],
   "source": [
    "compare_df = pd.DataFrame()"
   ]
  },
  {
   "cell_type": "code",
   "execution_count": 329,
   "id": "aea9ab39",
   "metadata": {},
   "outputs": [],
   "source": [
    "compare_df['days'] = df.describe()\n",
    "compare_df['weaks'] = df_weaks.describe()\n",
    "compare_df['months'] = df_months.describe()\n",
    "compare_df['---------'] = ''\n",
    "compare_df['days_cut'] = df_days_cut.describe()\n",
    "compare_df['weaks_cut'] = df_weaks_cut.describe()\n",
    "compare_df['months_cut'] = df_months_cut.describe()\n",
    "compare_df['--------'] = ''\n",
    "compare_df['days_fullcut'] = df_days_fullcut.describe()\n",
    "compare_df['weaks_fullcut'] = df_weaks_fullcut.describe()\n",
    "compare_df['months_fullcut'] = df_months_fullcut.describe()"
   ]
  },
  {
   "cell_type": "code",
   "execution_count": 330,
   "id": "88fd737a",
   "metadata": {},
   "outputs": [
    {
     "data": {
      "text/html": [
       "<div>\n",
       "<style scoped>\n",
       "    .dataframe tbody tr th:only-of-type {\n",
       "        vertical-align: middle;\n",
       "    }\n",
       "\n",
       "    .dataframe tbody tr th {\n",
       "        vertical-align: top;\n",
       "    }\n",
       "\n",
       "    .dataframe thead th {\n",
       "        text-align: right;\n",
       "    }\n",
       "</style>\n",
       "<table border=\"1\" class=\"dataframe\">\n",
       "  <thead>\n",
       "    <tr style=\"text-align: right;\">\n",
       "      <th></th>\n",
       "      <th>days</th>\n",
       "      <th>weaks</th>\n",
       "      <th>months</th>\n",
       "      <th>---------</th>\n",
       "      <th>days_cut</th>\n",
       "      <th>weaks_cut</th>\n",
       "      <th>months_cut</th>\n",
       "      <th>--------</th>\n",
       "      <th>days_fullcut</th>\n",
       "      <th>weaks_fullcut</th>\n",
       "      <th>months_fullcut</th>\n",
       "    </tr>\n",
       "  </thead>\n",
       "  <tbody>\n",
       "    <tr>\n",
       "      <th>count</th>\n",
       "      <td>240785.0</td>\n",
       "      <td>53412.0</td>\n",
       "      <td>18082.0</td>\n",
       "      <td></td>\n",
       "      <td>132756.0</td>\n",
       "      <td>20473.0</td>\n",
       "      <td>5065.0</td>\n",
       "      <td></td>\n",
       "      <td>101101.0</td>\n",
       "      <td>15120.0</td>\n",
       "      <td>3799.0</td>\n",
       "    </tr>\n",
       "    <tr>\n",
       "      <th>mean</th>\n",
       "      <td>61.0</td>\n",
       "      <td>275.0</td>\n",
       "      <td>811.0</td>\n",
       "      <td></td>\n",
       "      <td>68.0</td>\n",
       "      <td>447.0</td>\n",
       "      <td>1856.0</td>\n",
       "      <td></td>\n",
       "      <td>28.0</td>\n",
       "      <td>165.0</td>\n",
       "      <td>693.0</td>\n",
       "    </tr>\n",
       "    <tr>\n",
       "      <th>std</th>\n",
       "      <td>179.0</td>\n",
       "      <td>997.0</td>\n",
       "      <td>3495.0</td>\n",
       "      <td></td>\n",
       "      <td>90.0</td>\n",
       "      <td>610.0</td>\n",
       "      <td>2604.0</td>\n",
       "      <td></td>\n",
       "      <td>21.0</td>\n",
       "      <td>123.0</td>\n",
       "      <td>519.0</td>\n",
       "    </tr>\n",
       "    <tr>\n",
       "      <th>min</th>\n",
       "      <td>1.0</td>\n",
       "      <td>1.0</td>\n",
       "      <td>1.0</td>\n",
       "      <td></td>\n",
       "      <td>6.0</td>\n",
       "      <td>36.0</td>\n",
       "      <td>151.0</td>\n",
       "      <td></td>\n",
       "      <td>6.0</td>\n",
       "      <td>36.0</td>\n",
       "      <td>151.0</td>\n",
       "    </tr>\n",
       "    <tr>\n",
       "      <th>25%</th>\n",
       "      <td>2.0</td>\n",
       "      <td>3.0</td>\n",
       "      <td>3.0</td>\n",
       "      <td></td>\n",
       "      <td>13.0</td>\n",
       "      <td>80.0</td>\n",
       "      <td>331.0</td>\n",
       "      <td></td>\n",
       "      <td>10.0</td>\n",
       "      <td>64.0</td>\n",
       "      <td>270.0</td>\n",
       "    </tr>\n",
       "    <tr>\n",
       "      <th>50%</th>\n",
       "      <td>8.0</td>\n",
       "      <td>17.0</td>\n",
       "      <td>24.0</td>\n",
       "      <td></td>\n",
       "      <td>31.0</td>\n",
       "      <td>197.0</td>\n",
       "      <td>794.0</td>\n",
       "      <td></td>\n",
       "      <td>20.0</td>\n",
       "      <td>123.0</td>\n",
       "      <td>509.0</td>\n",
       "    </tr>\n",
       "    <tr>\n",
       "      <th>75%</th>\n",
       "      <td>42.0</td>\n",
       "      <td>131.0</td>\n",
       "      <td>230.0</td>\n",
       "      <td></td>\n",
       "      <td>81.0</td>\n",
       "      <td>527.0</td>\n",
       "      <td>2125.0</td>\n",
       "      <td></td>\n",
       "      <td>40.0</td>\n",
       "      <td>239.0</td>\n",
       "      <td>1013.0</td>\n",
       "    </tr>\n",
       "    <tr>\n",
       "      <th>max</th>\n",
       "      <td>6734.0</td>\n",
       "      <td>33767.0</td>\n",
       "      <td>108318.0</td>\n",
       "      <td></td>\n",
       "      <td>499.0</td>\n",
       "      <td>3498.0</td>\n",
       "      <td>14988.0</td>\n",
       "      <td></td>\n",
       "      <td>85.0</td>\n",
       "      <td>501.0</td>\n",
       "      <td>2125.0</td>\n",
       "    </tr>\n",
       "  </tbody>\n",
       "</table>\n",
       "</div>"
      ],
      "text/plain": [
       "           days    weaks    months ---------  days_cut  weaks_cut  months_cut  \\\n",
       "count  240785.0  53412.0   18082.0            132756.0    20473.0      5065.0   \n",
       "mean       61.0    275.0     811.0                68.0      447.0      1856.0   \n",
       "std       179.0    997.0    3495.0                90.0      610.0      2604.0   \n",
       "min         1.0      1.0       1.0                 6.0       36.0       151.0   \n",
       "25%         2.0      3.0       3.0                13.0       80.0       331.0   \n",
       "50%         8.0     17.0      24.0                31.0      197.0       794.0   \n",
       "75%        42.0    131.0     230.0                81.0      527.0      2125.0   \n",
       "max      6734.0  33767.0  108318.0               499.0     3498.0     14988.0   \n",
       "\n",
       "      --------  days_fullcut  weaks_fullcut  months_fullcut  \n",
       "count               101101.0        15120.0          3799.0  \n",
       "mean                    28.0          165.0           693.0  \n",
       "std                     21.0          123.0           519.0  \n",
       "min                      6.0           36.0           151.0  \n",
       "25%                     10.0           64.0           270.0  \n",
       "50%                     20.0          123.0           509.0  \n",
       "75%                     40.0          239.0          1013.0  \n",
       "max                     85.0          501.0          2125.0  "
      ]
     },
     "execution_count": 330,
     "metadata": {},
     "output_type": "execute_result"
    }
   ],
   "source": [
    "round(compare_df)"
   ]
  },
  {
   "cell_type": "code",
   "execution_count": null,
   "id": "b9921f9b",
   "metadata": {},
   "outputs": [],
   "source": []
  },
  {
   "cell_type": "code",
   "execution_count": 345,
   "id": "e8cbc7ae",
   "metadata": {},
   "outputs": [
    {
     "data": {
      "text/plain": [
       "1.2567703109327983"
      ]
     },
     "execution_count": 345,
     "metadata": {},
     "output_type": "execute_result"
    }
   ],
   "source": [
    "179*7/997 # неделя с выбросами"
   ]
  },
  {
   "cell_type": "code",
   "execution_count": 346,
   "id": "ea7c403b",
   "metadata": {},
   "outputs": [
    {
     "data": {
      "text/plain": [
       "1.536480686695279"
      ]
     },
     "execution_count": 346,
     "metadata": {},
     "output_type": "execute_result"
    }
   ],
   "source": [
    "179*30/3495 # месяц с выбросами"
   ]
  },
  {
   "cell_type": "code",
   "execution_count": null,
   "id": "c910936a",
   "metadata": {},
   "outputs": [],
   "source": []
  },
  {
   "cell_type": "code",
   "execution_count": 347,
   "id": "ae716e53",
   "metadata": {},
   "outputs": [
    {
     "data": {
      "text/plain": [
       "1.0327868852459017"
      ]
     },
     "execution_count": 347,
     "metadata": {},
     "output_type": "execute_result"
    }
   ],
   "source": [
    "90*7/610 # неделя с частичными выбросами"
   ]
  },
  {
   "cell_type": "code",
   "execution_count": 349,
   "id": "85210041",
   "metadata": {},
   "outputs": [
    {
     "data": {
      "text/plain": [
       "1.0368663594470047"
      ]
     },
     "execution_count": 349,
     "metadata": {},
     "output_type": "execute_result"
    }
   ],
   "source": [
    "90*30/2604 # месяц с частичными выбросами"
   ]
  },
  {
   "cell_type": "code",
   "execution_count": null,
   "id": "bc9cedb8",
   "metadata": {},
   "outputs": [],
   "source": []
  },
  {
   "cell_type": "code",
   "execution_count": 350,
   "id": "6d764176",
   "metadata": {},
   "outputs": [
    {
     "data": {
      "text/plain": [
       "1.1951219512195121"
      ]
     },
     "execution_count": 350,
     "metadata": {},
     "output_type": "execute_result"
    }
   ],
   "source": [
    "21*7/123 # неделя без выбросов"
   ]
  },
  {
   "cell_type": "code",
   "execution_count": 351,
   "id": "802fa765",
   "metadata": {},
   "outputs": [
    {
     "data": {
      "text/plain": [
       "1.2138728323699421"
      ]
     },
     "execution_count": 351,
     "metadata": {},
     "output_type": "execute_result"
    }
   ],
   "source": [
    "21*30/519 # месяц без выбросов"
   ]
  },
  {
   "cell_type": "code",
   "execution_count": null,
   "id": "b6190b1e",
   "metadata": {},
   "outputs": [],
   "source": []
  },
  {
   "cell_type": "code",
   "execution_count": null,
   "id": "9164a529",
   "metadata": {},
   "outputs": [],
   "source": []
  },
  {
   "cell_type": "code",
   "execution_count": null,
   "id": "9e0360d5",
   "metadata": {},
   "outputs": [],
   "source": []
  }
 ],
 "metadata": {
  "kernelspec": {
   "display_name": "Python 3 (ipykernel)",
   "language": "python",
   "name": "python3"
  },
  "language_info": {
   "codemirror_mode": {
    "name": "ipython",
    "version": 3
   },
   "file_extension": ".py",
   "mimetype": "text/x-python",
   "name": "python",
   "nbconvert_exporter": "python",
   "pygments_lexer": "ipython3",
   "version": "3.9.12"
  }
 },
 "nbformat": 4,
 "nbformat_minor": 5
}
